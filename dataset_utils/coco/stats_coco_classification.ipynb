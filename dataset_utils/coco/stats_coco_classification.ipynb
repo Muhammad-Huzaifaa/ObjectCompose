{
 "cells": [
  {
   "cell_type": "code",
   "execution_count": 8,
   "id": "initial_id",
   "metadata": {
    "collapsed": true,
    "ExecuteTime": {
     "end_time": "2023-09-07T05:44:35.125228893Z",
     "start_time": "2023-09-07T05:44:35.079917992Z"
    }
   },
   "outputs": [],
   "source": [
    "import os\n",
    "import cv2\n",
    "import glob\n",
    "import json\n",
    "\n",
    "from torchvision.io import read_image\n",
    "from torchvision import transforms\n",
    "import numpy as np\n",
    "import matplotlib.pyplot as plt\n",
    "from torchvision.utils import draw_bounding_boxes"
   ]
  },
  {
   "cell_type": "code",
   "execution_count": 9,
   "outputs": [],
   "source": [
    "class_name_to_id = {'airplane': 0,\n",
    " 'apple': 1,\n",
    " 'backpack': 2,\n",
    " 'banana': 3,\n",
    " 'baseball bat': 4,\n",
    " 'baseball glove': 5,\n",
    " 'bear': 6,\n",
    " 'bed': 7,\n",
    " 'bench': 8,\n",
    " 'bicycle': 9,\n",
    " 'bird': 10,\n",
    " 'boat': 11,\n",
    " 'book': 12,\n",
    " 'bottle': 13,\n",
    " 'bowl': 14,\n",
    " 'broccoli': 15,\n",
    " 'bus': 16,\n",
    " 'cake': 17,\n",
    " 'car': 18,\n",
    " 'carrot': 19,\n",
    " 'cat': 20,\n",
    " 'cell phone': 21,\n",
    " 'chair': 22,\n",
    " 'clock': 23,\n",
    " 'couch': 24,\n",
    " 'cow': 25,\n",
    " 'cup': 26,\n",
    " 'dining table': 27,\n",
    " 'dog': 28,\n",
    " 'donut': 29,\n",
    " 'elephant': 30,\n",
    " 'fire hydrant': 31,\n",
    " 'fork': 32,\n",
    " 'frisbee': 33,\n",
    " 'giraffe': 34,\n",
    " 'hair drier': 35,\n",
    " 'handbag': 36,\n",
    " 'horse': 37,\n",
    " 'hot dog': 38,\n",
    " 'keyboard': 39,\n",
    " 'kite': 40,\n",
    " 'knife': 41,\n",
    " 'laptop': 42,\n",
    " 'microwave': 43,\n",
    " 'motorcycle': 44,\n",
    " 'mouse': 45,\n",
    " 'orange': 46,\n",
    " 'oven': 47,\n",
    " 'parking meter': 48,\n",
    " 'person': 49,\n",
    " 'pizza': 50,\n",
    " 'potted plant': 51,\n",
    " 'refrigerator': 52,\n",
    " 'remote': 53,\n",
    " 'sandwich': 54,\n",
    " 'scissors': 55,\n",
    " 'sheep': 56,\n",
    " 'sink': 57,\n",
    " 'skateboard': 58,\n",
    " 'skis': 59,\n",
    " 'snowboard': 60,\n",
    " 'spoon': 61,\n",
    " 'sports ball': 62,\n",
    " 'stop sign': 63,\n",
    " 'suitcase': 64,\n",
    " 'surfboard': 65,\n",
    " 'teddy bear': 66,\n",
    " 'tennis racket': 67,\n",
    " 'tie': 68,\n",
    " 'toaster': 69,\n",
    " 'toilet': 70,\n",
    " 'toothbrush': 71,\n",
    " 'traffic light': 72,\n",
    " 'train': 73,\n",
    " 'truck': 74,\n",
    " 'tv': 75,\n",
    " 'umbrella': 76,\n",
    " 'vase': 77,\n",
    " 'wine glass': 78,\n",
    " 'zebra': 79}\n"
   ],
   "metadata": {
    "collapsed": false,
    "ExecuteTime": {
     "end_time": "2023-09-07T05:44:35.515661192Z",
     "start_time": "2023-09-07T05:44:35.512642211Z"
    }
   },
   "id": "eddd63e0c5134be7"
  },
  {
   "cell_type": "code",
   "execution_count": 10,
   "outputs": [],
   "source": [
    "coco_classification_path = \"/home/hashmat/Downloads/Coco_2017/coco_classification\"\n",
    "coco_train_folder_path = os.path.join(coco_classification_path, \"images\", \"train\")\n",
    "coco_val_folder_path = os.path.join(coco_classification_path, \"images\", \"val\")\n"
   ],
   "metadata": {
    "collapsed": false,
    "ExecuteTime": {
     "end_time": "2023-09-07T05:44:38.770535342Z",
     "start_time": "2023-09-07T05:44:38.764093974Z"
    }
   },
   "id": "d1a6cf63864b6299"
  },
  {
   "cell_type": "code",
   "execution_count": 11,
   "outputs": [],
   "source": [
    "images_per_class_train = {}\n",
    "images_per_class_val = {}"
   ],
   "metadata": {
    "collapsed": false,
    "ExecuteTime": {
     "end_time": "2023-09-07T05:44:39.279026485Z",
     "start_time": "2023-09-07T05:44:39.271493490Z"
    }
   },
   "id": "785c088e2b41b37f"
  },
  {
   "cell_type": "code",
   "execution_count": 22,
   "outputs": [
    {
     "name": "stdout",
     "output_type": "stream",
     "text": [
      "{12: 190, 10: 1298, 56: 737, 0: 2434, 49: 27319, 19: 137, 48: 274, 16: 2526, 41: 60, 11: 1454, 46: 254, 44: 1429, 76: 806, 38: 314, 5: 19, 67: 26, 61: 30, 52: 1294, 72: 831, 40: 679, 59: 5, 36: 112, 58: 81, 18: 1669, 3: 505, 32: 20, 29: 303, 55: 210, 1: 214, 79: 1222, 30: 1537, 35: 8, 75: 1174, 65: 378, 27: 5386, 31: 896, 15: 576, 28: 1498, 53: 113, 63: 922, 54: 647, 73: 2840, 66: 703, 71: 56, 42: 869, 60: 102, 78: 62, 7: 2331, 43: 264, 64: 666, 70: 2356, 34: 1739, 25: 1099, 57: 1389, 45: 24, 9: 462, 33: 48, 13: 180, 51: 756, 24: 1434, 2: 97, 74: 2142, 4: 14, 77: 670, 39: 248, 8: 1324, 37: 1562, 69: 27, 62: 12, 50: 1169, 23: 1896, 22: 1053, 6: 850, 26: 275, 47: 1090, 68: 44, 14: 1000, 20: 1520, 21: 247, 17: 700}\n",
      "{12: 8, 10: 46, 56: 27, 0: 77, 49: 1089, 19: 8, 48: 23, 16: 116, 41: 1, 11: 65, 46: 13, 44: 54, 76: 43, 38: 11, 5: 1, 67: 2, 52: 53, 72: 43, 40: 32, 58: 5, 18: 67, 3: 26, 32: 5, 29: 15, 55: 8, 1: 8, 79: 56, 30: 53, 35: 2, 75: 73, 65: 16, 27: 208, 31: 45, 15: 20, 28: 57, 53: 2, 63: 37, 54: 30, 73: 133, 66: 43, 71: 1, 42: 51, 60: 3, 7: 91, 43: 10, 64: 23, 70: 96, 34: 76, 25: 53, 57: 56, 9: 24, 33: 2, 13: 8, 51: 23, 24: 63, 2: 2, 74: 83, 77: 30, 39: 6, 8: 67, 37: 63, 69: 2, 50: 52, 23: 92, 22: 44, 6: 45, 26: 11, 47: 46, 68: 1, 14: 54, 20: 77, 21: 12, 17: 26}\n",
      "92907\n",
      "3914\n"
     ]
    }
   ],
   "source": [
    "folder_train = os.listdir(coco_train_folder_path)\n",
    "folder_val = os.listdir(coco_val_folder_path)\n",
    "\n",
    "for folder in folder_train:\n",
    "    folder_path = os.path.join(coco_train_folder_path, folder)\n",
    "    images = os.listdir(folder_path)\n",
    "    class_name = folder_path.split(\"/\")[-1]\n",
    "    images_per_class_train[class_name_to_id[class_name]] = len(images)\n",
    "    \n",
    "for folder in folder_val:\n",
    "    folder_path = os.path.join(coco_val_folder_path, folder)\n",
    "    images = os.listdir(folder_path)\n",
    "    class_name = folder_path.split(\"/\")[-1]\n",
    "    images_per_class_val[class_name_to_id[class_name]] = len(images)\n",
    "    \n",
    "    \n",
    "print(images_per_class_train)\n",
    "print(images_per_class_val)\n",
    "\n",
    "print(sum(images_per_class_train.values()))\n",
    "print(sum(images_per_class_val.values()))\n"
   ],
   "metadata": {
    "collapsed": false,
    "ExecuteTime": {
     "end_time": "2023-09-07T05:48:59.409792915Z",
     "start_time": "2023-09-07T05:48:59.374052636Z"
    }
   },
   "id": "e8785141257e4b9a"
  },
  {
   "cell_type": "code",
   "execution_count": 24,
   "outputs": [
    {
     "name": "stdout",
     "output_type": "stream",
     "text": [
      "Training images in Class 12: 190\n",
      "Training images in Class 10: 1298\n",
      "Training images in Class 56: 737\n",
      "Training images in Class 0: 2434\n",
      "Training images in Class 49: 27319\n",
      "Training images in Class 19: 137\n",
      "Training images in Class 48: 274\n",
      "Training images in Class 16: 2526\n",
      "Training images in Class 41: 60\n",
      "Training images in Class 11: 1454\n",
      "Training images in Class 46: 254\n",
      "Training images in Class 44: 1429\n",
      "Training images in Class 76: 806\n",
      "Training images in Class 38: 314\n",
      "Training images in Class 5: 19\n",
      "Training images in Class 67: 26\n",
      "Training images in Class 61: 30\n",
      "Training images in Class 52: 1294\n",
      "Training images in Class 72: 831\n",
      "Training images in Class 40: 679\n",
      "Training images in Class 59: 5\n",
      "Training images in Class 36: 112\n",
      "Training images in Class 58: 81\n",
      "Training images in Class 18: 1669\n",
      "Training images in Class 3: 505\n",
      "Training images in Class 32: 20\n",
      "Training images in Class 29: 303\n",
      "Training images in Class 55: 210\n",
      "Training images in Class 1: 214\n",
      "Training images in Class 79: 1222\n",
      "Training images in Class 30: 1537\n",
      "Training images in Class 35: 8\n",
      "Training images in Class 75: 1174\n",
      "Training images in Class 65: 378\n",
      "Training images in Class 27: 5386\n",
      "Training images in Class 31: 896\n",
      "Training images in Class 15: 576\n",
      "Training images in Class 28: 1498\n",
      "Training images in Class 53: 113\n",
      "Training images in Class 63: 922\n",
      "Training images in Class 54: 647\n",
      "Training images in Class 73: 2840\n",
      "Training images in Class 66: 703\n",
      "Training images in Class 71: 56\n",
      "Training images in Class 42: 869\n",
      "Training images in Class 60: 102\n",
      "Training images in Class 78: 62\n",
      "Training images in Class 7: 2331\n",
      "Training images in Class 43: 264\n",
      "Training images in Class 64: 666\n",
      "Training images in Class 70: 2356\n",
      "Training images in Class 34: 1739\n",
      "Training images in Class 25: 1099\n",
      "Training images in Class 57: 1389\n",
      "Training images in Class 45: 24\n",
      "Training images in Class 9: 462\n",
      "Training images in Class 33: 48\n",
      "Training images in Class 13: 180\n",
      "Training images in Class 51: 756\n",
      "Training images in Class 24: 1434\n",
      "Training images in Class 2: 97\n",
      "Training images in Class 74: 2142\n",
      "Training images in Class 4: 14\n",
      "Training images in Class 77: 670\n",
      "Training images in Class 39: 248\n",
      "Training images in Class 8: 1324\n",
      "Training images in Class 37: 1562\n",
      "Training images in Class 69: 27\n",
      "Training images in Class 62: 12\n",
      "Training images in Class 50: 1169\n",
      "Training images in Class 23: 1896\n",
      "Training images in Class 22: 1053\n",
      "Training images in Class 6: 850\n",
      "Training images in Class 26: 275\n",
      "Training images in Class 47: 1090\n",
      "Training images in Class 68: 44\n",
      "Training images in Class 14: 1000\n",
      "Training images in Class 20: 1520\n",
      "Training images in Class 21: 247\n",
      "Training images in Class 17: 700\n"
     ]
    }
   ],
   "source": [
    "for k, v in images_per_class_train.items():\n",
    "    print(f\"Training images in Class {k}: {v}\")"
   ],
   "metadata": {
    "collapsed": false,
    "ExecuteTime": {
     "end_time": "2023-09-07T05:49:27.322774434Z",
     "start_time": "2023-09-07T05:49:27.310403587Z"
    }
   },
   "id": "17792862f8a751ff"
  },
  {
   "cell_type": "code",
   "execution_count": 25,
   "outputs": [
    {
     "name": "stdout",
     "output_type": "stream",
     "text": [
      "Val images in Class 12: 8\n",
      "Val images in Class 10: 46\n",
      "Val images in Class 56: 27\n",
      "Val images in Class 0: 77\n",
      "Val images in Class 49: 1089\n",
      "Val images in Class 19: 8\n",
      "Val images in Class 48: 23\n",
      "Val images in Class 16: 116\n",
      "Val images in Class 41: 1\n",
      "Val images in Class 11: 65\n",
      "Val images in Class 46: 13\n",
      "Val images in Class 44: 54\n",
      "Val images in Class 76: 43\n",
      "Val images in Class 38: 11\n",
      "Val images in Class 5: 1\n",
      "Val images in Class 67: 2\n",
      "Val images in Class 52: 53\n",
      "Val images in Class 72: 43\n",
      "Val images in Class 40: 32\n",
      "Val images in Class 58: 5\n",
      "Val images in Class 18: 67\n",
      "Val images in Class 3: 26\n",
      "Val images in Class 32: 5\n",
      "Val images in Class 29: 15\n",
      "Val images in Class 55: 8\n",
      "Val images in Class 1: 8\n",
      "Val images in Class 79: 56\n",
      "Val images in Class 30: 53\n",
      "Val images in Class 35: 2\n",
      "Val images in Class 75: 73\n",
      "Val images in Class 65: 16\n",
      "Val images in Class 27: 208\n",
      "Val images in Class 31: 45\n",
      "Val images in Class 15: 20\n",
      "Val images in Class 28: 57\n",
      "Val images in Class 53: 2\n",
      "Val images in Class 63: 37\n",
      "Val images in Class 54: 30\n",
      "Val images in Class 73: 133\n",
      "Val images in Class 66: 43\n",
      "Val images in Class 71: 1\n",
      "Val images in Class 42: 51\n",
      "Val images in Class 60: 3\n",
      "Val images in Class 7: 91\n",
      "Val images in Class 43: 10\n",
      "Val images in Class 64: 23\n",
      "Val images in Class 70: 96\n",
      "Val images in Class 34: 76\n",
      "Val images in Class 25: 53\n",
      "Val images in Class 57: 56\n",
      "Val images in Class 9: 24\n",
      "Val images in Class 33: 2\n",
      "Val images in Class 13: 8\n",
      "Val images in Class 51: 23\n",
      "Val images in Class 24: 63\n",
      "Val images in Class 2: 2\n",
      "Val images in Class 74: 83\n",
      "Val images in Class 77: 30\n",
      "Val images in Class 39: 6\n",
      "Val images in Class 8: 67\n",
      "Val images in Class 37: 63\n",
      "Val images in Class 69: 2\n",
      "Val images in Class 50: 52\n",
      "Val images in Class 23: 92\n",
      "Val images in Class 22: 44\n",
      "Val images in Class 6: 45\n",
      "Val images in Class 26: 11\n",
      "Val images in Class 47: 46\n",
      "Val images in Class 68: 1\n",
      "Val images in Class 14: 54\n",
      "Val images in Class 20: 77\n",
      "Val images in Class 21: 12\n",
      "Val images in Class 17: 26\n"
     ]
    }
   ],
   "source": [
    "for k, v in images_per_class_val.items():\n",
    "    print(f\"Val images in Class {k}: {v}\")"
   ],
   "metadata": {
    "collapsed": false,
    "ExecuteTime": {
     "end_time": "2023-09-07T05:49:48.842339658Z",
     "start_time": "2023-09-07T05:49:48.798278426Z"
    }
   },
   "id": "e15b53e76e93271e"
  },
  {
   "cell_type": "code",
   "execution_count": 19,
   "outputs": [
    {
     "data": {
      "text/plain": "<Figure size 2400x800 with 1 Axes>",
      "image/png": "[encoded data removed]"
     },
     "metadata": {},
     "output_type": "display_data"
    }
   ],
   "source": [
    "import matplotlib.pyplot as plt\n",
    "\n",
    "\n",
    "\n",
    "# separate keys and values into two lists\n",
    "classes = list(images_per_class_train.keys())\n",
    "num_images = list(images_per_class_train.values())\n",
    "\n",
    "\n",
    "plt.figure(figsize=(24, 8))  \n",
    "# create a bar plot\n",
    "plt.bar(classes, num_images)\n",
    "plt.xlabel('Class Number')\n",
    "plt.ylabel('Number of Images')\n",
    "plt.title('Number of Images per Class')\n",
    "plt.show()"
   ],
   "metadata": {
    "collapsed": false,
    "ExecuteTime": {
     "end_time": "2023-09-07T05:47:37.406771488Z",
     "start_time": "2023-09-07T05:47:37.248257985Z"
    }
   },
   "id": "663f97ae5fc790f6"
  },
  {
   "cell_type": "code",
   "execution_count": 20,
   "outputs": [
    {
     "data": {
      "text/plain": "<Figure size 2400x800 with 1 Axes>",
      "image/png": "[encoded data removed]"
     },
     "metadata": {},
     "output_type": "display_data"
    }
   ],
   "source": [
    "import matplotlib.pyplot as plt\n",
    "\n",
    "\n",
    "\n",
    "# separate keys and values into two lists\n",
    "classes = list(images_per_class_val.keys())\n",
    "num_images = list(images_per_class_val.values())\n",
    "\n",
    "\n",
    "plt.figure(figsize=(24, 8))  \n",
    "# create a bar plot\n",
    "plt.bar(classes, num_images)\n",
    "plt.xlabel('Class Number')\n",
    "plt.ylabel('Number of Images')\n",
    "plt.title('Number of Images per Class')\n",
    "plt.show()"
   ],
   "metadata": {
    "collapsed": false,
    "ExecuteTime": {
     "end_time": "2023-09-07T05:47:47.853815766Z",
     "start_time": "2023-09-07T05:47:47.691013803Z"
    }
   },
   "id": "c977febb6ad0eac5"
  },
  {
   "cell_type": "code",
   "execution_count": 18,
   "outputs": [
    {
     "data": {
      "text/plain": "[12,\n 10,\n 56,\n 0,\n 49,\n 19,\n 48,\n 16,\n 41,\n 11,\n 46,\n 44,\n 76,\n 38,\n 5,\n 67,\n 52,\n 72,\n 40,\n 58,\n 18,\n 3,\n 32,\n 29,\n 55,\n 1,\n 79,\n 30,\n 35,\n 75,\n 65,\n 27,\n 31,\n 15,\n 28,\n 53,\n 63,\n 54,\n 73,\n 66,\n 71,\n 42,\n 60,\n 7,\n 43,\n 64,\n 70,\n 34,\n 25,\n 57,\n 9,\n 33,\n 13,\n 51,\n 24,\n 2,\n 74,\n 77,\n 39,\n 8,\n 37,\n 69,\n 50,\n 23,\n 22,\n 6,\n 26,\n 47,\n 68,\n 14,\n 20,\n 21,\n 17]"
     },
     "execution_count": 18,
     "metadata": {},
     "output_type": "execute_result"
    }
   ],
   "source": [
    "classes"
   ],
   "metadata": {
    "collapsed": false,
    "ExecuteTime": {
     "end_time": "2023-09-07T05:46:53.959855371Z",
     "start_time": "2023-09-07T05:46:53.943071575Z"
    }
   },
   "id": "5fcba6cdcb658c9f"
  },
  {
   "cell_type": "code",
   "execution_count": null,
   "outputs": [],
   "source": [],
   "metadata": {
    "collapsed": false
   },
   "id": "786b52e174ead191"
  }
 ],
 "metadata": {
  "kernelspec": {
   "display_name": "Python 3",
   "language": "python",
   "name": "python3"
  },
  "language_info": {
   "codemirror_mode": {
    "name": "ipython",
    "version": 2
   },
   "file_extension": ".py",
   "mimetype": "text/x-python",
   "name": "python",
   "nbconvert_exporter": "python",
   "pygments_lexer": "ipython2",
   "version": "2.7.6"
  }
 },
 "nbformat": 4,
 "nbformat_minor": 5
}
